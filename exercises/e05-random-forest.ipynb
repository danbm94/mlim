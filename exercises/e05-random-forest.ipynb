{
 "cells": [
  {
   "cell_type": "markdown",
   "metadata": {},
   "source": [
    "<img src=\"../img/hu-logo.png\" align=\"right\" width=\"120\">\n",
    "\n",
    "# Tree-based models\n",
    "\n",
    "In this notebook we'll implement a simple solution to homework 2, part 3.\n",
    "\n",
    "This includes the following steps:\n",
    "1. Define the target variable\n",
    "2. Build training index (i.e., define how to construct training samples) and build a small set of features\n",
    "3. Baselines\n",
    "4. Random Forest\n",
    "5. Boosted Tree\n",
    "6. Benchmark results\n",
    "7. Calibration curve\n",
    "8. Permutation feature importance"
   ]
  },
  {
   "cell_type": "code",
   "execution_count": 1,
   "metadata": {},
   "outputs": [],
   "source": [
    "import json\n",
    "import os\n",
    "import pickle\n",
    "\n",
    "import lightgbm\n",
    "import matplotlib.pyplot as plt\n",
    "import numpy as np\n",
    "import pandas as pd\n",
    "import seaborn as sns\n",
    "import sklearn.calibration\n",
    "import sklearn.ensemble\n",
    "import sklearn.inspection\n",
    "import sklearn.metrics\n",
    "import sklearn.model_selection\n",
    "import sklearn.tree\n",
    "import statsmodels.api as sm\n",
    "import tqdm"
   ]
  },
  {
   "cell_type": "code",
   "execution_count": 2,
   "metadata": {},
   "outputs": [],
   "source": [
    "# set some default pyplot parameters\n",
    "plt.rcParams.update(\n",
    "    {\n",
    "        \"figure.figsize\": (10, 8),\n",
    "        \"axes.titlesize\": 20,\n",
    "        \"axes.labelsize\": 15,\n",
    "        \"legend.fontsize\": 15,\n",
    "        \"legend.title_fontsize\": 15,\n",
    "        \"axes.grid\": True,\n",
    "        \"axes.axisbelow\": True,\n",
    "        \"pcolor.shading\": \"auto\",\n",
    "    }\n",
    ")"
   ]
  },
  {
   "cell_type": "code",
   "execution_count": 3,
   "metadata": {},
   "outputs": [],
   "source": [
    "# set your path here\n",
    "PATH = os.path.expanduser(\"/private/data/teaching/instacart_exercise_2\")"
   ]
  },
  {
   "cell_type": "markdown",
   "metadata": {},
   "source": [
    "## Load data"
   ]
  },
  {
   "cell_type": "code",
   "execution_count": 4,
   "metadata": {},
   "outputs": [],
   "source": [
    "# load data\n",
    "products = pd.read_parquet(f\"{PATH}/products.parquet\")\n",
    "baskets = pd.read_parquet(f\"{PATH}/baskets.parquet\")\n",
    "orders = pd.read_parquet(f\"{PATH}/orders.parquet\")\n",
    "prediction_index = pd.read_parquet(f\"{PATH}/prediction_index.parquet\")"
   ]
  },
  {
   "cell_type": "markdown",
   "metadata": {},
   "source": [
    "## Define the target variable\n",
    "\n",
    "We predict days to next order so shift `days_since_prior_order` by 1 order\n",
    "- Binary target variable derived from `y` (\"days to next order\")\n",
    "- We can construct multiple training samples for each user\n",
    "- The prediction target is the last observation for each shopper (where y is not available)"
   ]
  },
  {
   "cell_type": "code",
   "execution_count": 5,
   "metadata": {},
   "outputs": [],
   "source": [
    "# we sort orders so we can simply shift by `-1` in the next step\n",
    "# first and last values for `days_since_prior_order` are NaN\n",
    "orders = orders.sort_values([\"user_id\", \"order_number\"], ascending=True)"
   ]
  },
  {
   "cell_type": "code",
   "execution_count": 6,
   "metadata": {},
   "outputs": [
    {
     "data": {
      "text/html": [
       "<div>\n",
       "<style scoped>\n",
       "    .dataframe tbody tr th:only-of-type {\n",
       "        vertical-align: middle;\n",
       "    }\n",
       "\n",
       "    .dataframe tbody tr th {\n",
       "        vertical-align: top;\n",
       "    }\n",
       "\n",
       "    .dataframe thead th {\n",
       "        text-align: right;\n",
       "    }\n",
       "</style>\n",
       "<table border=\"1\" class=\"dataframe\">\n",
       "  <thead>\n",
       "    <tr style=\"text-align: right;\">\n",
       "      <th></th>\n",
       "      <th>order_id</th>\n",
       "      <th>user_id</th>\n",
       "      <th>order_number</th>\n",
       "      <th>order_dow</th>\n",
       "      <th>order_hour_of_day</th>\n",
       "      <th>days_since_prior_order</th>\n",
       "    </tr>\n",
       "  </thead>\n",
       "  <tbody>\n",
       "    <tr>\n",
       "      <th>0</th>\n",
       "      <td>2539329</td>\n",
       "      <td>1</td>\n",
       "      <td>1</td>\n",
       "      <td>2</td>\n",
       "      <td>8</td>\n",
       "      <td>NaN</td>\n",
       "    </tr>\n",
       "    <tr>\n",
       "      <th>1</th>\n",
       "      <td>2398795</td>\n",
       "      <td>1</td>\n",
       "      <td>2</td>\n",
       "      <td>3</td>\n",
       "      <td>7</td>\n",
       "      <td>15.0</td>\n",
       "    </tr>\n",
       "    <tr>\n",
       "      <th>2</th>\n",
       "      <td>473747</td>\n",
       "      <td>1</td>\n",
       "      <td>3</td>\n",
       "      <td>3</td>\n",
       "      <td>12</td>\n",
       "      <td>21.0</td>\n",
       "    </tr>\n",
       "    <tr>\n",
       "      <th>3</th>\n",
       "      <td>2254736</td>\n",
       "      <td>1</td>\n",
       "      <td>4</td>\n",
       "      <td>4</td>\n",
       "      <td>7</td>\n",
       "      <td>29.0</td>\n",
       "    </tr>\n",
       "    <tr>\n",
       "      <th>4</th>\n",
       "      <td>431534</td>\n",
       "      <td>1</td>\n",
       "      <td>5</td>\n",
       "      <td>4</td>\n",
       "      <td>15</td>\n",
       "      <td>28.0</td>\n",
       "    </tr>\n",
       "    <tr>\n",
       "      <th>...</th>\n",
       "      <td>...</td>\n",
       "      <td>...</td>\n",
       "      <td>...</td>\n",
       "      <td>...</td>\n",
       "      <td>...</td>\n",
       "      <td>...</td>\n",
       "    </tr>\n",
       "    <tr>\n",
       "      <th>3214869</th>\n",
       "      <td>2558525</td>\n",
       "      <td>206209</td>\n",
       "      <td>9</td>\n",
       "      <td>4</td>\n",
       "      <td>15</td>\n",
       "      <td>22.0</td>\n",
       "    </tr>\n",
       "    <tr>\n",
       "      <th>3214870</th>\n",
       "      <td>2266710</td>\n",
       "      <td>206209</td>\n",
       "      <td>10</td>\n",
       "      <td>5</td>\n",
       "      <td>18</td>\n",
       "      <td>29.0</td>\n",
       "    </tr>\n",
       "    <tr>\n",
       "      <th>3214871</th>\n",
       "      <td>1854736</td>\n",
       "      <td>206209</td>\n",
       "      <td>11</td>\n",
       "      <td>4</td>\n",
       "      <td>10</td>\n",
       "      <td>30.0</td>\n",
       "    </tr>\n",
       "    <tr>\n",
       "      <th>3214872</th>\n",
       "      <td>626363</td>\n",
       "      <td>206209</td>\n",
       "      <td>12</td>\n",
       "      <td>1</td>\n",
       "      <td>12</td>\n",
       "      <td>18.0</td>\n",
       "    </tr>\n",
       "    <tr>\n",
       "      <th>3214873</th>\n",
       "      <td>2977660</td>\n",
       "      <td>206209</td>\n",
       "      <td>13</td>\n",
       "      <td>1</td>\n",
       "      <td>12</td>\n",
       "      <td>7.0</td>\n",
       "    </tr>\n",
       "  </tbody>\n",
       "</table>\n",
       "<p>3214874 rows × 6 columns</p>\n",
       "</div>"
      ],
      "text/plain": [
       "         order_id  user_id  order_number  order_dow  order_hour_of_day  \\\n",
       "0         2539329        1             1          2                  8   \n",
       "1         2398795        1             2          3                  7   \n",
       "2          473747        1             3          3                 12   \n",
       "3         2254736        1             4          4                  7   \n",
       "4          431534        1             5          4                 15   \n",
       "...           ...      ...           ...        ...                ...   \n",
       "3214869   2558525   206209             9          4                 15   \n",
       "3214870   2266710   206209            10          5                 18   \n",
       "3214871   1854736   206209            11          4                 10   \n",
       "3214872    626363   206209            12          1                 12   \n",
       "3214873   2977660   206209            13          1                 12   \n",
       "\n",
       "         days_since_prior_order  \n",
       "0                           NaN  \n",
       "1                          15.0  \n",
       "2                          21.0  \n",
       "3                          29.0  \n",
       "4                          28.0  \n",
       "...                         ...  \n",
       "3214869                    22.0  \n",
       "3214870                    29.0  \n",
       "3214871                    30.0  \n",
       "3214872                    18.0  \n",
       "3214873                     7.0  \n",
       "\n",
       "[3214874 rows x 6 columns]"
      ]
     },
     "execution_count": 6,
     "metadata": {},
     "output_type": "execute_result"
    }
   ],
   "source": [
    "orders"
   ]
  },
  {
   "cell_type": "code",
   "execution_count": 7,
   "metadata": {},
   "outputs": [],
   "source": [
    "# verify that first `days_since_prior_order` values for all shoppers are NaN\n",
    "# and that the last `days_since_prior_order` values for all shoppers are not NaN\n",
    "# this is a prerequsite for simply shifting by -1, regardless of `user_id`\n",
    "assert np.all(orders.groupby(\"user_id\").days_since_prior_order.head(1).isnull())\n",
    "assert np.all(orders.groupby(\"user_id\").days_since_prior_order.tail(1).notnull())"
   ]
  },
  {
   "cell_type": "code",
   "execution_count": 8,
   "metadata": {},
   "outputs": [],
   "source": [
    "orders[\"y_int_l1\"] = (orders[\"days_since_prior_order\"] <= 14).astype(int)\n",
    "orders[\"y\"] = orders[\"days_since_prior_order\"].shift(-1)\n",
    "orders[\"y_int\"] = (orders[\"y\"] <= 14).astype(int)"
   ]
  },
  {
   "cell_type": "markdown",
   "metadata": {},
   "source": [
    "## Some light data preprocessing"
   ]
  },
  {
   "cell_type": "code",
   "execution_count": 9,
   "metadata": {},
   "outputs": [],
   "source": [
    "# add number of products per baskets\n",
    "n_product_order = baskets.groupby(\"order_id\")[[\"product_id\"]].nunique().reset_index()\n",
    "n_product_order.rename(columns={\"product_id\": \"size\"}, inplace=True)\n",
    "orders = orders.merge(n_product_order, on=\"order_id\", how=\"left\").reset_index(drop=True)"
   ]
  },
  {
   "cell_type": "code",
   "execution_count": 10,
   "metadata": {},
   "outputs": [],
   "source": [
    "# inverse order counter (used in building training data)\n",
    "orders[\"order_number_inv\"] = (\n",
    "    orders.groupby(\"user_id\").order_number.transform(max) - orders[\"order_number\"]\n",
    ")"
   ]
  },
  {
   "cell_type": "code",
   "execution_count": 11,
   "metadata": {},
   "outputs": [],
   "source": [
    "# shorten variable names\n",
    "orders.rename(columns={\"days_since_prior_order\": \"dspo\"}, inplace=True)"
   ]
  },
  {
   "cell_type": "markdown",
   "metadata": {},
   "source": [
    "### Let's look at one single user"
   ]
  },
  {
   "cell_type": "code",
   "execution_count": 12,
   "metadata": {},
   "outputs": [
    {
     "data": {
      "text/html": [
       "<div>\n",
       "<style scoped>\n",
       "    .dataframe tbody tr th:only-of-type {\n",
       "        vertical-align: middle;\n",
       "    }\n",
       "\n",
       "    .dataframe tbody tr th {\n",
       "        vertical-align: top;\n",
       "    }\n",
       "\n",
       "    .dataframe thead th {\n",
       "        text-align: right;\n",
       "    }\n",
       "</style>\n",
       "<table border=\"1\" class=\"dataframe\">\n",
       "  <thead>\n",
       "    <tr style=\"text-align: right;\">\n",
       "      <th></th>\n",
       "      <th>user_id</th>\n",
       "      <th>order_number</th>\n",
       "    </tr>\n",
       "  </thead>\n",
       "  <tbody>\n",
       "    <tr>\n",
       "      <th>4</th>\n",
       "      <td>5</td>\n",
       "      <td>5</td>\n",
       "    </tr>\n",
       "  </tbody>\n",
       "</table>\n",
       "</div>"
      ],
      "text/plain": [
       "   user_id  order_number\n",
       "4        5             5"
      ]
     },
     "execution_count": 12,
     "metadata": {},
     "output_type": "execute_result"
    }
   ],
   "source": [
    "prediction_index[prediction_index[\"user_id\"] == 5]"
   ]
  },
  {
   "cell_type": "code",
   "execution_count": 13,
   "metadata": {},
   "outputs": [
    {
     "data": {
      "text/html": [
       "<div>\n",
       "<style scoped>\n",
       "    .dataframe tbody tr th:only-of-type {\n",
       "        vertical-align: middle;\n",
       "    }\n",
       "\n",
       "    .dataframe tbody tr th {\n",
       "        vertical-align: top;\n",
       "    }\n",
       "\n",
       "    .dataframe thead th {\n",
       "        text-align: right;\n",
       "    }\n",
       "</style>\n",
       "<table border=\"1\" class=\"dataframe\">\n",
       "  <thead>\n",
       "    <tr style=\"text-align: right;\">\n",
       "      <th></th>\n",
       "      <th>order_id</th>\n",
       "      <th>user_id</th>\n",
       "      <th>order_number</th>\n",
       "      <th>order_dow</th>\n",
       "      <th>order_hour_of_day</th>\n",
       "      <th>dspo</th>\n",
       "      <th>y_int_l1</th>\n",
       "      <th>y</th>\n",
       "      <th>y_int</th>\n",
       "      <th>size</th>\n",
       "      <th>order_number_inv</th>\n",
       "    </tr>\n",
       "  </thead>\n",
       "  <tbody>\n",
       "    <tr>\n",
       "      <th>41</th>\n",
       "      <td>2717275</td>\n",
       "      <td>5</td>\n",
       "      <td>1</td>\n",
       "      <td>3</td>\n",
       "      <td>12</td>\n",
       "      <td>NaN</td>\n",
       "      <td>0</td>\n",
       "      <td>11.0</td>\n",
       "      <td>1</td>\n",
       "      <td>11</td>\n",
       "      <td>3</td>\n",
       "    </tr>\n",
       "    <tr>\n",
       "      <th>42</th>\n",
       "      <td>1909121</td>\n",
       "      <td>5</td>\n",
       "      <td>2</td>\n",
       "      <td>0</td>\n",
       "      <td>16</td>\n",
       "      <td>11.0</td>\n",
       "      <td>1</td>\n",
       "      <td>10.0</td>\n",
       "      <td>1</td>\n",
       "      <td>9</td>\n",
       "      <td>2</td>\n",
       "    </tr>\n",
       "    <tr>\n",
       "      <th>43</th>\n",
       "      <td>2267326</td>\n",
       "      <td>5</td>\n",
       "      <td>3</td>\n",
       "      <td>3</td>\n",
       "      <td>18</td>\n",
       "      <td>10.0</td>\n",
       "      <td>1</td>\n",
       "      <td>19.0</td>\n",
       "      <td>0</td>\n",
       "      <td>5</td>\n",
       "      <td>1</td>\n",
       "    </tr>\n",
       "    <tr>\n",
       "      <th>44</th>\n",
       "      <td>157374</td>\n",
       "      <td>5</td>\n",
       "      <td>4</td>\n",
       "      <td>1</td>\n",
       "      <td>18</td>\n",
       "      <td>19.0</td>\n",
       "      <td>0</td>\n",
       "      <td>NaN</td>\n",
       "      <td>0</td>\n",
       "      <td>12</td>\n",
       "      <td>0</td>\n",
       "    </tr>\n",
       "  </tbody>\n",
       "</table>\n",
       "</div>"
      ],
      "text/plain": [
       "    order_id  user_id  order_number  order_dow  order_hour_of_day  dspo  \\\n",
       "41   2717275        5             1          3                 12   NaN   \n",
       "42   1909121        5             2          0                 16  11.0   \n",
       "43   2267326        5             3          3                 18  10.0   \n",
       "44    157374        5             4          1                 18  19.0   \n",
       "\n",
       "    y_int_l1     y  y_int  size  order_number_inv  \n",
       "41         0  11.0      1    11                 3  \n",
       "42         1  10.0      1     9                 2  \n",
       "43         1  19.0      0     5                 1  \n",
       "44         0   NaN      0    12                 0  "
      ]
     },
     "execution_count": 13,
     "metadata": {},
     "output_type": "execute_result"
    }
   ],
   "source": [
    "orders[orders[\"user_id\"] == 5]"
   ]
  },
  {
   "cell_type": "code",
   "execution_count": 14,
   "metadata": {},
   "outputs": [
    {
     "data": {
      "text/html": [
       "<div>\n",
       "<style scoped>\n",
       "    .dataframe tbody tr th:only-of-type {\n",
       "        vertical-align: middle;\n",
       "    }\n",
       "\n",
       "    .dataframe tbody tr th {\n",
       "        vertical-align: top;\n",
       "    }\n",
       "\n",
       "    .dataframe thead th {\n",
       "        text-align: right;\n",
       "    }\n",
       "</style>\n",
       "<table border=\"1\" class=\"dataframe\">\n",
       "  <thead>\n",
       "    <tr style=\"text-align: right;\">\n",
       "      <th></th>\n",
       "      <th>order_id</th>\n",
       "      <th>user_id</th>\n",
       "      <th>order_number</th>\n",
       "      <th>order_dow</th>\n",
       "      <th>order_hour_of_day</th>\n",
       "      <th>dspo</th>\n",
       "      <th>y_int_l1</th>\n",
       "      <th>y</th>\n",
       "      <th>y_int</th>\n",
       "      <th>size</th>\n",
       "      <th>order_number_inv</th>\n",
       "    </tr>\n",
       "  </thead>\n",
       "  <tbody>\n",
       "    <tr>\n",
       "      <th>0</th>\n",
       "      <td>2539329</td>\n",
       "      <td>1</td>\n",
       "      <td>1</td>\n",
       "      <td>2</td>\n",
       "      <td>8</td>\n",
       "      <td>NaN</td>\n",
       "      <td>0</td>\n",
       "      <td>15.0</td>\n",
       "      <td>0</td>\n",
       "      <td>5</td>\n",
       "      <td>9</td>\n",
       "    </tr>\n",
       "    <tr>\n",
       "      <th>1</th>\n",
       "      <td>2398795</td>\n",
       "      <td>1</td>\n",
       "      <td>2</td>\n",
       "      <td>3</td>\n",
       "      <td>7</td>\n",
       "      <td>15.0</td>\n",
       "      <td>0</td>\n",
       "      <td>21.0</td>\n",
       "      <td>0</td>\n",
       "      <td>6</td>\n",
       "      <td>8</td>\n",
       "    </tr>\n",
       "    <tr>\n",
       "      <th>2</th>\n",
       "      <td>473747</td>\n",
       "      <td>1</td>\n",
       "      <td>3</td>\n",
       "      <td>3</td>\n",
       "      <td>12</td>\n",
       "      <td>21.0</td>\n",
       "      <td>0</td>\n",
       "      <td>29.0</td>\n",
       "      <td>0</td>\n",
       "      <td>5</td>\n",
       "      <td>7</td>\n",
       "    </tr>\n",
       "    <tr>\n",
       "      <th>3</th>\n",
       "      <td>2254736</td>\n",
       "      <td>1</td>\n",
       "      <td>4</td>\n",
       "      <td>4</td>\n",
       "      <td>7</td>\n",
       "      <td>29.0</td>\n",
       "      <td>0</td>\n",
       "      <td>28.0</td>\n",
       "      <td>0</td>\n",
       "      <td>5</td>\n",
       "      <td>6</td>\n",
       "    </tr>\n",
       "    <tr>\n",
       "      <th>4</th>\n",
       "      <td>431534</td>\n",
       "      <td>1</td>\n",
       "      <td>5</td>\n",
       "      <td>4</td>\n",
       "      <td>15</td>\n",
       "      <td>28.0</td>\n",
       "      <td>0</td>\n",
       "      <td>19.0</td>\n",
       "      <td>0</td>\n",
       "      <td>8</td>\n",
       "      <td>5</td>\n",
       "    </tr>\n",
       "    <tr>\n",
       "      <th>5</th>\n",
       "      <td>3367565</td>\n",
       "      <td>1</td>\n",
       "      <td>6</td>\n",
       "      <td>2</td>\n",
       "      <td>7</td>\n",
       "      <td>19.0</td>\n",
       "      <td>0</td>\n",
       "      <td>20.0</td>\n",
       "      <td>0</td>\n",
       "      <td>4</td>\n",
       "      <td>4</td>\n",
       "    </tr>\n",
       "    <tr>\n",
       "      <th>6</th>\n",
       "      <td>550135</td>\n",
       "      <td>1</td>\n",
       "      <td>7</td>\n",
       "      <td>1</td>\n",
       "      <td>9</td>\n",
       "      <td>20.0</td>\n",
       "      <td>0</td>\n",
       "      <td>14.0</td>\n",
       "      <td>1</td>\n",
       "      <td>5</td>\n",
       "      <td>3</td>\n",
       "    </tr>\n",
       "    <tr>\n",
       "      <th>7</th>\n",
       "      <td>3108588</td>\n",
       "      <td>1</td>\n",
       "      <td>8</td>\n",
       "      <td>1</td>\n",
       "      <td>14</td>\n",
       "      <td>14.0</td>\n",
       "      <td>1</td>\n",
       "      <td>0.0</td>\n",
       "      <td>1</td>\n",
       "      <td>6</td>\n",
       "      <td>2</td>\n",
       "    </tr>\n",
       "    <tr>\n",
       "      <th>8</th>\n",
       "      <td>2295261</td>\n",
       "      <td>1</td>\n",
       "      <td>9</td>\n",
       "      <td>1</td>\n",
       "      <td>16</td>\n",
       "      <td>0.0</td>\n",
       "      <td>1</td>\n",
       "      <td>30.0</td>\n",
       "      <td>0</td>\n",
       "      <td>6</td>\n",
       "      <td>1</td>\n",
       "    </tr>\n",
       "    <tr>\n",
       "      <th>9</th>\n",
       "      <td>2550362</td>\n",
       "      <td>1</td>\n",
       "      <td>10</td>\n",
       "      <td>4</td>\n",
       "      <td>8</td>\n",
       "      <td>30.0</td>\n",
       "      <td>0</td>\n",
       "      <td>NaN</td>\n",
       "      <td>0</td>\n",
       "      <td>9</td>\n",
       "      <td>0</td>\n",
       "    </tr>\n",
       "  </tbody>\n",
       "</table>\n",
       "</div>"
      ],
      "text/plain": [
       "   order_id  user_id  order_number  order_dow  order_hour_of_day  dspo  \\\n",
       "0   2539329        1             1          2                  8   NaN   \n",
       "1   2398795        1             2          3                  7  15.0   \n",
       "2    473747        1             3          3                 12  21.0   \n",
       "3   2254736        1             4          4                  7  29.0   \n",
       "4    431534        1             5          4                 15  28.0   \n",
       "5   3367565        1             6          2                  7  19.0   \n",
       "6    550135        1             7          1                  9  20.0   \n",
       "7   3108588        1             8          1                 14  14.0   \n",
       "8   2295261        1             9          1                 16   0.0   \n",
       "9   2550362        1            10          4                  8  30.0   \n",
       "\n",
       "   y_int_l1     y  y_int  size  order_number_inv  \n",
       "0         0  15.0      0     5                 9  \n",
       "1         0  21.0      0     6                 8  \n",
       "2         0  29.0      0     5                 7  \n",
       "3         0  28.0      0     5                 6  \n",
       "4         0  19.0      0     8                 5  \n",
       "5         0  20.0      0     4                 4  \n",
       "6         0  14.0      1     5                 3  \n",
       "7         1   0.0      1     6                 2  \n",
       "8         1  30.0      0     6                 1  \n",
       "9         0   NaN      0     9                 0  "
      ]
     },
     "execution_count": 14,
     "metadata": {},
     "output_type": "execute_result"
    }
   ],
   "source": [
    "orders[orders[\"user_id\"] == 1]"
   ]
  },
  {
   "cell_type": "markdown",
   "metadata": {},
   "source": [
    "## Build training data\n",
    "\n",
    "We create training/testing samples for each value of `order_number_inv`, starting with 0:\n",
    "- `order_number_inv=0` is our test set\n",
    "- `order_number_inv>0` is our training/validation set\n",
    "\n",
    "Not all shoppers have observations for a given `o`, this depends on length of their order history.  Also note that we keep all data prior to `o`, regardless of the length of the order history.  This means that we use a different amount of data in building features across shoppers.  Our reason for doing this is that we do not have trending features (in this case we need to either normalize or use a constant time window) and that more data yields more accurate feature values for the given statistics.  We avoid leakage by only using data available at each given point in time (i.e., before the next order).  Consider replacing min/max by percentiles (e.g., 10% and 90%) to deal with outliers.\n",
    "\n",
    "Note, we already introduce three hyperparameters here:\n",
    "- the number of observations used for constructing our feature data `O`\n",
    "- the lags used in feature computation `L`\n",
    "- our feature set (e.g., base variables, aggregation functions)"
   ]
  },
  {
   "cell_type": "code",
   "execution_count": 15,
   "metadata": {},
   "outputs": [
    {
     "name": "stderr",
     "output_type": "stream",
     "text": [
      "100%|██████████| 10/10 [00:10<00:00,  1.03s/it]\n"
     ]
    }
   ],
   "source": [
    "O = 10\n",
    "L = [100_000, 3, 5]\n",
    "\n",
    "x_list = []\n",
    "y_list = []\n",
    "for o in tqdm.tqdm(range(0, O)):\n",
    "\n",
    "    data_sets = []\n",
    "\n",
    "    for i, l in enumerate(L):\n",
    "\n",
    "        orders_o_l = orders[\n",
    "            (orders[\"order_number_inv\"] >= o) & (orders[\"order_number_inv\"] < (o + l))\n",
    "        ]\n",
    "\n",
    "        if i == 0:\n",
    "            features_o_l = orders_o_l.groupby(\"user_id\").agg(\n",
    "                {\n",
    "                    \"dspo\": [\"last\", \"mean\", \"min\", \"max\"],\n",
    "                    \"size\": [\"last\", \"mean\", \"min\", \"max\"],\n",
    "                    \"y_int_l1\": [\"last\", \"mean\"],\n",
    "                }\n",
    "            )\n",
    "        else:\n",
    "            features_o_l = orders_o_l.groupby(\"user_id\").agg(\n",
    "                {\n",
    "                    \"dspo\": [\"mean\", \"min\", \"max\"],\n",
    "                    \"size\": [\"mean\", \"min\", \"max\"],\n",
    "                    \"y_int_l1\": [\"mean\"],\n",
    "                }\n",
    "            )\n",
    "\n",
    "        features_o_l.columns = [\"_\".join(c) for c in features_o_l.columns.values]\n",
    "\n",
    "        if i > 0:\n",
    "            features_o_l.columns = [f\"{c}_l{l}\" for c in features_o_l.columns]\n",
    "\n",
    "        data_sets.append(features_o_l)\n",
    "\n",
    "    # merge\n",
    "    data_o = data_sets[0]\n",
    "    for i in range(1, len(data_sets)):\n",
    "        data_o = data_o.merge(data_sets[i], on=\"user_id\")\n",
    "\n",
    "    # additional (derived) features\n",
    "    # add 1 because `dspo_mean` can be 0\n",
    "    data_o[\"ratio_dspo\"] = data_o[\"dspo_last\"] / (\n",
    "        1 + data_o[\"dspo_mean\"]\n",
    "    )\n",
    "    data_o[\"ratio_size\"] = data_o[\"size_last\"] / data_o[\"size_mean\"]\n",
    "    data_o[\"trend_dspo\"] = data_o[\"dspo_mean\"] - data_o[f\"dspo_mean_l{min(L)}\"]\n",
    "    data_o[\"trend_size\"] = data_o[\"size_mean\"] - data_o[f\"size_mean_l{min(L)}\"]\n",
    "\n",
    "    # write to list\n",
    "    data_o[\"order_number_inv\"] = o\n",
    "    x_list.append(data_o)\n",
    "    y_list.append(\n",
    "        orders[orders[\"order_number_inv\"] == o][\n",
    "            [\"user_id\", \"order_number_inv\", \"y_int\"]\n",
    "        ]\n",
    "    )"
   ]
  },
  {
   "cell_type": "code",
   "execution_count": 16,
   "metadata": {},
   "outputs": [],
   "source": [
    "# data set for making final predictions\n",
    "X_predict = x_list[0].reset_index().set_index([\"user_id\", \"order_number_inv\"]).values\n",
    "y_predict = None"
   ]
  },
  {
   "cell_type": "code",
   "execution_count": 17,
   "metadata": {},
   "outputs": [],
   "source": [
    "# train and test dat\n",
    "x_df = pd.concat(x_list[1:]).reset_index().set_index([\"user_id\", \"order_number_inv\"])\n",
    "y_df = pd.concat(y_list[1:])\n",
    "features = x_df.columns\n",
    "\n",
    "# remove NaNs\n",
    "mask_not_null = x_df[\"dspo_last\"].notnull().values\n",
    "y_df = y_df[mask_not_null]\n",
    "x_df = x_df[mask_not_null]\n",
    "assert x_df[\"dspo_last\"].isnull().sum() == 0\n",
    "\n",
    "# create validation set by split in time dimension\n",
    "mask = (x_df.reset_index().order_number_inv > 1).values\n",
    "\n",
    "X_test = x_df[~mask].values\n",
    "X_train = x_df[mask].values\n",
    "\n",
    "y_test = y_df[~mask].y_int.values\n",
    "y_train = y_df[mask].y_int.values"
   ]
  },
  {
   "cell_type": "markdown",
   "metadata": {},
   "source": [
    "## Baseline 1: Random predictions\n",
    "\n",
    "We expect an AUC of .5 for random probabilities."
   ]
  },
  {
   "cell_type": "code",
   "execution_count": 18,
   "metadata": {},
   "outputs": [
    {
     "data": {
      "text/html": [
       "<div>\n",
       "<style scoped>\n",
       "    .dataframe tbody tr th:only-of-type {\n",
       "        vertical-align: middle;\n",
       "    }\n",
       "\n",
       "    .dataframe tbody tr th {\n",
       "        vertical-align: top;\n",
       "    }\n",
       "\n",
       "    .dataframe thead th {\n",
       "        text-align: right;\n",
       "    }\n",
       "</style>\n",
       "<table border=\"1\" class=\"dataframe\">\n",
       "  <thead>\n",
       "    <tr style=\"text-align: right;\">\n",
       "      <th></th>\n",
       "      <th>user_id</th>\n",
       "      <th>order_number</th>\n",
       "      <th>yhat</th>\n",
       "    </tr>\n",
       "  </thead>\n",
       "  <tbody>\n",
       "    <tr>\n",
       "      <th>0</th>\n",
       "      <td>1</td>\n",
       "      <td>11</td>\n",
       "      <td>0.304813</td>\n",
       "    </tr>\n",
       "    <tr>\n",
       "      <th>1</th>\n",
       "      <td>2</td>\n",
       "      <td>15</td>\n",
       "      <td>0.451061</td>\n",
       "    </tr>\n",
       "    <tr>\n",
       "      <th>2</th>\n",
       "      <td>3</td>\n",
       "      <td>13</td>\n",
       "      <td>0.218883</td>\n",
       "    </tr>\n",
       "    <tr>\n",
       "      <th>3</th>\n",
       "      <td>4</td>\n",
       "      <td>6</td>\n",
       "      <td>0.000427</td>\n",
       "    </tr>\n",
       "    <tr>\n",
       "      <th>4</th>\n",
       "      <td>5</td>\n",
       "      <td>5</td>\n",
       "      <td>0.290249</td>\n",
       "    </tr>\n",
       "  </tbody>\n",
       "</table>\n",
       "</div>"
      ],
      "text/plain": [
       "   user_id  order_number      yhat\n",
       "0        1            11  0.304813\n",
       "1        2            15  0.451061\n",
       "2        3            13  0.218883\n",
       "3        4             6  0.000427\n",
       "4        5             5  0.290249"
      ]
     },
     "execution_count": 18,
     "metadata": {},
     "output_type": "execute_result"
    }
   ],
   "source": [
    "random = prediction_index.copy()\n",
    "random[\"yhat\"] = np.random.uniform(0, 1, random.shape[0])\n",
    "random.head()"
   ]
  },
  {
   "cell_type": "markdown",
   "metadata": {},
   "source": [
    "## Baseline 2: Management heuristic\n",
    "\n",
    "Use the last observation for `y` (\"shopping trip in next two weeks\") as a prediction."
   ]
  },
  {
   "cell_type": "code",
   "execution_count": 19,
   "metadata": {},
   "outputs": [
    {
     "data": {
      "text/html": [
       "<div>\n",
       "<style scoped>\n",
       "    .dataframe tbody tr th:only-of-type {\n",
       "        vertical-align: middle;\n",
       "    }\n",
       "\n",
       "    .dataframe tbody tr th {\n",
       "        vertical-align: top;\n",
       "    }\n",
       "\n",
       "    .dataframe thead th {\n",
       "        text-align: right;\n",
       "    }\n",
       "</style>\n",
       "<table border=\"1\" class=\"dataframe\">\n",
       "  <thead>\n",
       "    <tr style=\"text-align: right;\">\n",
       "      <th></th>\n",
       "      <th>user_id</th>\n",
       "      <th>yhat</th>\n",
       "      <th>order_number</th>\n",
       "    </tr>\n",
       "  </thead>\n",
       "  <tbody>\n",
       "    <tr>\n",
       "      <th>0</th>\n",
       "      <td>1</td>\n",
       "      <td>0</td>\n",
       "      <td>11</td>\n",
       "    </tr>\n",
       "    <tr>\n",
       "      <th>1</th>\n",
       "      <td>2</td>\n",
       "      <td>1</td>\n",
       "      <td>15</td>\n",
       "    </tr>\n",
       "    <tr>\n",
       "      <th>2</th>\n",
       "      <td>3</td>\n",
       "      <td>0</td>\n",
       "      <td>13</td>\n",
       "    </tr>\n",
       "    <tr>\n",
       "      <th>3</th>\n",
       "      <td>4</td>\n",
       "      <td>1</td>\n",
       "      <td>6</td>\n",
       "    </tr>\n",
       "    <tr>\n",
       "      <th>4</th>\n",
       "      <td>5</td>\n",
       "      <td>0</td>\n",
       "      <td>5</td>\n",
       "    </tr>\n",
       "  </tbody>\n",
       "</table>\n",
       "</div>"
      ],
      "text/plain": [
       "   user_id  yhat  order_number\n",
       "0        1     0            11\n",
       "1        2     1            15\n",
       "2        3     0            13\n",
       "3        4     1             6\n",
       "4        5     0             5"
      ]
     },
     "execution_count": 19,
     "metadata": {},
     "output_type": "execute_result"
    }
   ],
   "source": [
    "last_obs = (\n",
    "    y_df[y_df[\"order_number_inv\"] == 1][[\"user_id\", \"y_int\"]]\n",
    "    .merge(prediction_index, on=\"user_id\")\n",
    "    .rename(columns={\"y_int\": \"yhat\"})\n",
    ").sort_values(\"user_id\")\n",
    "last_obs.head()"
   ]
  },
  {
   "cell_type": "markdown",
   "metadata": {},
   "source": [
    "## Random Forest\n",
    "\n",
    "### Train and evaluate model"
   ]
  },
  {
   "cell_type": "code",
   "execution_count": 20,
   "metadata": {},
   "outputs": [],
   "source": [
    "parameters_rf = {\n",
    "    \"n_estimators\": 100,\n",
    "    \"min_samples_split\": 16,\n",
    "    \"max_leaf_nodes\": 48,\n",
    "    \"max_features\": 0.8,\n",
    "    \"max_depth\": 5,\n",
    "    \"bootstrap\": True,\n",
    "    \"random_state\": 501,\n",
    "}"
   ]
  },
  {
   "cell_type": "code",
   "execution_count": 21,
   "metadata": {},
   "outputs": [
    {
     "data": {
      "text/plain": [
       "0.7541044050523816"
      ]
     },
     "execution_count": 21,
     "metadata": {},
     "output_type": "execute_result"
    }
   ],
   "source": [
    "random_forest = sklearn.ensemble.RandomForestClassifier(**parameters_rf)\n",
    "random_forest.fit(X_train, y_train)\n",
    "sklearn.metrics.roc_auc_score(y_test, random_forest.predict_proba(X_test)[:, 1])"
   ]
  },
  {
   "cell_type": "markdown",
   "metadata": {},
   "source": [
    "### Retrain model on full data and predict"
   ]
  },
  {
   "cell_type": "code",
   "execution_count": 22,
   "metadata": {},
   "outputs": [],
   "source": [
    "parameters_rf_star = parameters_rf.copy()\n",
    "# or do a parameter search instead (random search, bayesian optimziation, etc.)"
   ]
  },
  {
   "cell_type": "code",
   "execution_count": 23,
   "metadata": {},
   "outputs": [],
   "source": [
    "random_forest_star = sklearn.ensemble.RandomForestClassifier(**parameters_rf_star)"
   ]
  },
  {
   "cell_type": "code",
   "execution_count": 24,
   "metadata": {},
   "outputs": [
    {
     "data": {
      "text/plain": [
       "RandomForestClassifier(max_depth=5, max_features=0.8, max_leaf_nodes=48,\n",
       "                       min_samples_split=16, random_state=501)"
      ]
     },
     "execution_count": 24,
     "metadata": {},
     "output_type": "execute_result"
    }
   ],
   "source": [
    "random_forest_star.fit(\n",
    "    x_df.values,\n",
    "    y_df.y_int.values,\n",
    ")"
   ]
  },
  {
   "cell_type": "markdown",
   "metadata": {},
   "source": [
    "### Build prediction for final evaluation"
   ]
  },
  {
   "cell_type": "code",
   "execution_count": 25,
   "metadata": {},
   "outputs": [
    {
     "data": {
      "text/html": [
       "<div>\n",
       "<style scoped>\n",
       "    .dataframe tbody tr th:only-of-type {\n",
       "        vertical-align: middle;\n",
       "    }\n",
       "\n",
       "    .dataframe tbody tr th {\n",
       "        vertical-align: top;\n",
       "    }\n",
       "\n",
       "    .dataframe thead th {\n",
       "        text-align: right;\n",
       "    }\n",
       "</style>\n",
       "<table border=\"1\" class=\"dataframe\">\n",
       "  <thead>\n",
       "    <tr style=\"text-align: right;\">\n",
       "      <th></th>\n",
       "      <th>user_id</th>\n",
       "      <th>order_number</th>\n",
       "      <th>yhat</th>\n",
       "    </tr>\n",
       "  </thead>\n",
       "  <tbody>\n",
       "    <tr>\n",
       "      <th>0</th>\n",
       "      <td>1</td>\n",
       "      <td>11</td>\n",
       "      <td>0.448045</td>\n",
       "    </tr>\n",
       "    <tr>\n",
       "      <th>1</th>\n",
       "      <td>2</td>\n",
       "      <td>15</td>\n",
       "      <td>0.564945</td>\n",
       "    </tr>\n",
       "    <tr>\n",
       "      <th>2</th>\n",
       "      <td>3</td>\n",
       "      <td>13</td>\n",
       "      <td>0.605164</td>\n",
       "    </tr>\n",
       "    <tr>\n",
       "      <th>3</th>\n",
       "      <td>4</td>\n",
       "      <td>6</td>\n",
       "      <td>0.541756</td>\n",
       "    </tr>\n",
       "    <tr>\n",
       "      <th>4</th>\n",
       "      <td>5</td>\n",
       "      <td>5</td>\n",
       "      <td>0.497535</td>\n",
       "    </tr>\n",
       "  </tbody>\n",
       "</table>\n",
       "</div>"
      ],
      "text/plain": [
       "   user_id  order_number      yhat\n",
       "0        1            11  0.448045\n",
       "1        2            15  0.564945\n",
       "2        3            13  0.605164\n",
       "3        4             6  0.541756\n",
       "4        5             5  0.497535"
      ]
     },
     "execution_count": 25,
     "metadata": {},
     "output_type": "execute_result"
    }
   ],
   "source": [
    "pred_rf = prediction_index.copy()\n",
    "pred_rf[\"yhat\"] = random_forest_star.predict_proba(X_predict)[:, 1]\n",
    "assert pred_rf[\"yhat\"].isnull().sum() == 0\n",
    "pred_rf.head()"
   ]
  },
  {
   "cell_type": "markdown",
   "metadata": {},
   "source": [
    "## Boosted Tree\n",
    "\n",
    "### Hyperparameter search\n",
    "\n",
    "We start with a random search for hyperparameters.  This will randomly select combinations of hyperparameters from a \"grid\" (not really a grid, rather ranges in each hyperparameter dimension), evaluate them on the training data (using cross validation), and return the values that perform the best.\n",
    "\n",
    "Note that it would be better touse a split in the time dimension here as well. We can do this by providing an iterable that yields indices to `cv` in `sklearn.model_selection.RandomizedSearchCV`.  Why not go ahead and try this modification?  Does this improve the results for our hyperparameter search?"
   ]
  },
  {
   "cell_type": "code",
   "execution_count": 26,
   "metadata": {},
   "outputs": [
    {
     "name": "stdout",
     "output_type": "stream",
     "text": [
      "0.7681258458259328\n",
      "{\n",
      "    \"objective\": \"binary\",\n",
      "    \"num_leaves\": 125,\n",
      "    \"n_estimators\": 750,\n",
      "    \"min_data_in_leaf\": 22,\n",
      "    \"metric\": \"auc\",\n",
      "    \"max_depth\": 5,\n",
      "    \"max_bin\": 390,\n",
      "    \"learning_rate\": 0.1,\n",
      "    \"feature_fraction\": 0.4,\n",
      "    \"boosting_type\": \"dart\",\n",
      "    \"bagging_freq\": 1,\n",
      "    \"bagging_fraction\": 0.8999999999999999\n",
      "}\n"
     ]
    }
   ],
   "source": [
    "file_hps_results = f\"{PATH}/random_search_lgbm.pickle\"\n",
    "# file_hps_results = f\"{PATH}/random_search_lgbm_v1.pickle\"\n",
    "# file_hps_results = f\"{PATH}/random_search_lgbm_v2.pickle\"\n",
    "\n",
    "if os.path.isfile(file_hps_results):\n",
    "\n",
    "    # load prior results\n",
    "    with open(file_hps_results, \"rb\") as con:\n",
    "        randomized_search = pickle.load(con)\n",
    "\n",
    "    # print results and extract best parameters\n",
    "    print(randomized_search.best_score_)\n",
    "    print(json.dumps(randomized_search.best_params_, indent=4))\n",
    "    lgbm_parameters_star = randomized_search.best_params_\n",
    "\n",
    "else:\n",
    "\n",
    "    # run hyperparameter search\n",
    "    param_grid = {\n",
    "        \"boosting_type\": [\"gbdt\", \"dart\"],\n",
    "        \"num_leaves\": range(10, 200, 5),\n",
    "        \"max_depth\": range(1, 20, 1),\n",
    "        \"learning_rate\": [0.001, 0.005, 0.01, 0.02, 0.05, 0.1],\n",
    "        \"n_estimators\": [500, 750, 1000, 1250, 1500, 2000],\n",
    "        \"objective\": [\"binary\"],\n",
    "        \"metric\": [\"auc\"],\n",
    "        \"bagging_fraction\": np.arange(0.4, 1, 0.1),\n",
    "        \"bagging_freq\": range(1, 5, 1),\n",
    "        \"feature_fraction\": np.arange(0.4, 1, 0.1),\n",
    "        \"max_bin\": range(10, 500, 10),\n",
    "        \"min_data_in_leaf\": range(5, 50, 1),\n",
    "    }\n",
    "\n",
    "    lightgbm_classifier = lightgbm.LGBMClassifier()\n",
    "\n",
    "    randomized_search = sklearn.model_selection.RandomizedSearchCV(\n",
    "        estimator=lightgbm_classifier,\n",
    "        param_distributions=param_grid,\n",
    "        cv=5,  # here we should implement a better split strategy\n",
    "        n_iter=250,\n",
    "        n_jobs=-1,\n",
    "        scoring=\"roc_auc\",\n",
    "        verbose=2,\n",
    "        random_state=501,\n",
    "    )\n",
    "\n",
    "    randomized_search.fit(X_train, y_train)\n",
    "\n",
    "    with open(file_hps_results, \"wb\") as con:\n",
    "        pickle.dump(randomized_search, con)"
   ]
  },
  {
   "cell_type": "markdown",
   "metadata": {},
   "source": [
    "### Retrain model on full data and predict"
   ]
  },
  {
   "cell_type": "code",
   "execution_count": 27,
   "metadata": {},
   "outputs": [],
   "source": [
    "lightgbm_classifier_star = lightgbm.LGBMClassifier(**lgbm_parameters_star)"
   ]
  },
  {
   "cell_type": "code",
   "execution_count": 28,
   "metadata": {},
   "outputs": [
    {
     "name": "stdout",
     "output_type": "stream",
     "text": [
      "[LightGBM] [Warning] min_data_in_leaf is set=22, min_child_samples=20 will be ignored. Current value: min_data_in_leaf=22\n",
      "[LightGBM] [Warning] bagging_fraction is set=0.8999999999999999, subsample=1.0 will be ignored. Current value: bagging_fraction=0.8999999999999999\n",
      "[LightGBM] [Warning] feature_fraction is set=0.4, colsample_bytree=1.0 will be ignored. Current value: feature_fraction=0.4\n",
      "[LightGBM] [Warning] bagging_freq is set=1, subsample_freq=0 will be ignored. Current value: bagging_freq=1\n"
     ]
    },
    {
     "data": {
      "text/plain": [
       "LGBMClassifier(bagging_fraction=0.8999999999999999, bagging_freq=1,\n",
       "               boosting_type='dart', feature_fraction=0.4, max_bin=390,\n",
       "               max_depth=5, metric='auc', min_data_in_leaf=22, n_estimators=750,\n",
       "               num_leaves=125, objective='binary')"
      ]
     },
     "execution_count": 28,
     "metadata": {},
     "output_type": "execute_result"
    }
   ],
   "source": [
    "lightgbm_classifier_star.fit(\n",
    "    x_df.values,\n",
    "    y_df.y_int.values,\n",
    ")"
   ]
  },
  {
   "cell_type": "code",
   "execution_count": 29,
   "metadata": {},
   "outputs": [
    {
     "data": {
      "text/html": [
       "<div>\n",
       "<style scoped>\n",
       "    .dataframe tbody tr th:only-of-type {\n",
       "        vertical-align: middle;\n",
       "    }\n",
       "\n",
       "    .dataframe tbody tr th {\n",
       "        vertical-align: top;\n",
       "    }\n",
       "\n",
       "    .dataframe thead th {\n",
       "        text-align: right;\n",
       "    }\n",
       "</style>\n",
       "<table border=\"1\" class=\"dataframe\">\n",
       "  <thead>\n",
       "    <tr style=\"text-align: right;\">\n",
       "      <th></th>\n",
       "      <th>user_id</th>\n",
       "      <th>order_number</th>\n",
       "      <th>yhat</th>\n",
       "    </tr>\n",
       "  </thead>\n",
       "  <tbody>\n",
       "    <tr>\n",
       "      <th>0</th>\n",
       "      <td>1</td>\n",
       "      <td>11</td>\n",
       "      <td>0.362277</td>\n",
       "    </tr>\n",
       "    <tr>\n",
       "      <th>1</th>\n",
       "      <td>2</td>\n",
       "      <td>15</td>\n",
       "      <td>0.560907</td>\n",
       "    </tr>\n",
       "    <tr>\n",
       "      <th>2</th>\n",
       "      <td>3</td>\n",
       "      <td>13</td>\n",
       "      <td>0.569564</td>\n",
       "    </tr>\n",
       "    <tr>\n",
       "      <th>3</th>\n",
       "      <td>4</td>\n",
       "      <td>6</td>\n",
       "      <td>0.397036</td>\n",
       "    </tr>\n",
       "    <tr>\n",
       "      <th>4</th>\n",
       "      <td>5</td>\n",
       "      <td>5</td>\n",
       "      <td>0.485283</td>\n",
       "    </tr>\n",
       "  </tbody>\n",
       "</table>\n",
       "</div>"
      ],
      "text/plain": [
       "   user_id  order_number      yhat\n",
       "0        1            11  0.362277\n",
       "1        2            15  0.560907\n",
       "2        3            13  0.569564\n",
       "3        4             6  0.397036\n",
       "4        5             5  0.485283"
      ]
     },
     "execution_count": 29,
     "metadata": {},
     "output_type": "execute_result"
    }
   ],
   "source": [
    "pred_lgbm = prediction_index.copy()\n",
    "pred_lgbm[\"yhat\"] = lightgbm_classifier_star.predict_proba(X_predict)[:, 1]\n",
    "assert pred_lgbm[\"yhat\"].isnull().sum() == 0\n",
    "pred_lgbm.head()"
   ]
  },
  {
   "cell_type": "markdown",
   "metadata": {},
   "source": [
    "## BENCHMARK\n",
    "\n",
    "After you executed the following lines you should not go back and change your models. This is the final evaluation after you are done with model training/evaluation. If you still want to improve your models build an appropriate ___validation data___ set and evaluate your models on that data. Once you test your models on the truth data you should not iterate on your models anymore.\n",
    "\n",
    "<img src=\"../img/no-return.png\" width=800>"
   ]
  },
  {
   "cell_type": "code",
   "execution_count": 31,
   "metadata": {},
   "outputs": [],
   "source": [
    "def score(x):\n",
    "    truth = pd.read_parquet(f\"{PATH}/truth.parquet\")\n",
    "    assert np.all(\n",
    "        truth[[\"user_id\", \"order_number\"]].values\n",
    "        == x[[\"user_id\", \"order_number\"]].values\n",
    "    )\n",
    "    return sklearn.metrics.roc_auc_score(truth[\"y\"].values, x[\"yhat\"].values)"
   ]
  },
  {
   "cell_type": "code",
   "execution_count": 32,
   "metadata": {},
   "outputs": [
    {
     "data": {
      "text/plain": [
       "0.4991888604925711"
      ]
     },
     "execution_count": 32,
     "metadata": {},
     "output_type": "execute_result"
    }
   ],
   "source": [
    "score(random)"
   ]
  },
  {
   "cell_type": "code",
   "execution_count": 33,
   "metadata": {},
   "outputs": [
    {
     "data": {
      "text/plain": [
       "0.6557106576947312"
      ]
     },
     "execution_count": 33,
     "metadata": {},
     "output_type": "execute_result"
    }
   ],
   "source": [
    "score(last_obs)"
   ]
  },
  {
   "cell_type": "code",
   "execution_count": 34,
   "metadata": {},
   "outputs": [
    {
     "data": {
      "text/plain": [
       "0.7602472162814088"
      ]
     },
     "execution_count": 34,
     "metadata": {},
     "output_type": "execute_result"
    }
   ],
   "source": [
    "score(pred_rf)"
   ]
  },
  {
   "cell_type": "code",
   "execution_count": 35,
   "metadata": {},
   "outputs": [
    {
     "data": {
      "text/plain": [
       "0.766374299061195"
      ]
     },
     "execution_count": 35,
     "metadata": {},
     "output_type": "execute_result"
    }
   ],
   "source": [
    "score(pred_lgbm)"
   ]
  },
  {
   "cell_type": "markdown",
   "metadata": {},
   "source": [
    "## Calibration cuves\n",
    "\n",
    "The following plot compares how well the probabilistic predictions of our classifiers are calibrated, using calibration_curve. The `x`-axis represents the average predicted probability in each bin. The `y`-axis is the fraction of positives, i.e. the proportion of samples whose class is the positive class (in each bin).\n",
    "\n",
    "### sklearn implementation"
   ]
  },
  {
   "cell_type": "code",
   "execution_count": 36,
   "metadata": {},
   "outputs": [],
   "source": [
    "truth = pd.read_parquet(f\"{PATH}/truth.parquet\")"
   ]
  },
  {
   "cell_type": "code",
   "execution_count": 37,
   "metadata": {},
   "outputs": [],
   "source": [
    "results_dict = {\n",
    "    \"lgbm\": pred_lgbm[\"yhat\"].values,\n",
    "    \"random-forest\": pred_rf[\"yhat\"].values,\n",
    "}"
   ]
  },
  {
   "cell_type": "code",
   "execution_count": 38,
   "metadata": {},
   "outputs": [
    {
     "data": {
      "image/png": "[encoded data removed]",
      "text/plain": [
       "<Figure size 720x720 with 2 Axes>"
      ]
     },
     "metadata": {
      "needs_background": "light"
     },
     "output_type": "display_data"
    }
   ],
   "source": [
    "# https://scikit-learn.org/stable/auto_examples/calibration/plot_compare_calibration.html\n",
    "\n",
    "plt.figure(figsize=(10, 10))\n",
    "ax1 = plt.subplot2grid((3, 1), (0, 0), rowspan=2)\n",
    "ax2 = plt.subplot2grid((3, 1), (2, 0))\n",
    "\n",
    "ax1.plot([0, 1], [0, 1], \"k:\", label=\"Perfectly calibrated\")\n",
    "\n",
    "for name in results_dict:\n",
    "    prob_pos = results_dict[name]\n",
    "    fraction_of_positives, mean_predicted_value = sklearn.calibration.calibration_curve(\n",
    "        truth[\"y\"].values, prob_pos, n_bins=20\n",
    "    )\n",
    "\n",
    "    ax1.plot(mean_predicted_value, fraction_of_positives, \"s-\", label=\"%s\" % (name,))\n",
    "    ax2.hist(prob_pos, range=(0, 1), bins=20, label=name, histtype=\"step\", lw=2)\n",
    "\n",
    "ax1.set_ylabel(\"Fraction of positives\")\n",
    "ax1.set_ylim([-0.05, 1.05])\n",
    "ax1.legend(loc=\"lower right\")\n",
    "ax1.set_title(\"Calibration plots  (reliability curve)\")\n",
    "\n",
    "ax2.set_xlabel(\"Mean predicted value\")\n",
    "ax2.set_ylabel(\"Count\")\n",
    "ax2.legend(loc=\"upper left\")\n",
    "\n",
    "plt.tight_layout()\n",
    "plt.show()"
   ]
  },
  {
   "cell_type": "markdown",
   "metadata": {},
   "source": [
    "### Our own implementation"
   ]
  },
  {
   "cell_type": "code",
   "execution_count": 39,
   "metadata": {},
   "outputs": [],
   "source": [
    "# some questions to think about:\n",
    "# do you see what we are doing here?\n",
    "# why do we sample from a `Beta` distribution?\n",
    "# what do the following parameters of the Beta distribution mean?\n",
    "#   - `1+x[\"y\"][\"sum\"]`\n",
    "#   - the `1` in `1+x[\"y\"][\"sum\"]`\n",
    "#   - `1+x[\"y\"][\"len\"]-x[\"y\"][\"sum\"]`\n",
    "#   - the `1` in `1+x[\"y\"][\"len\"]-x[\"y\"][\"sum\"]`\n",
    "# what do we get from `np.quantile(posterior, .025)` and `np.quantile(posterior, .975)`\n",
    "\n",
    "\n",
    "def sample_posterior(x, N=10_000):\n",
    "    posterior = np.random.beta(1 + x[\"y\"][\"sum\"], 1 + x[\"y\"][\"len\"] - x[\"y\"][\"sum\"], N)\n",
    "    return pd.Series(\n",
    "        [\n",
    "            np.mean(posterior),\n",
    "            np.quantile(posterior, 0.025),\n",
    "            np.quantile(posterior, 0.975),\n",
    "        ]\n",
    "    )"
   ]
  },
  {
   "cell_type": "code",
   "execution_count": 40,
   "metadata": {},
   "outputs": [],
   "source": [
    "def get_agg(x, l, w=0.05):\n",
    "    out = pd.read_parquet(f\"{PATH}/truth.parquet\").merge(\n",
    "        x, on=[\"user_id\", \"order_number\"]\n",
    "    )\n",
    "    out[\"bin\"] = out[\"yhat\"] // w\n",
    "    agg = out.groupby(\"bin\")[[\"y\", \"yhat\"]].agg([np.mean, len, sum]).reset_index()\n",
    "    agg[\"label\"] = l\n",
    "    agg[[\"mean\", \"p025\", \"p975\"]] = agg.apply(lambda row: sample_posterior(row), axis=1)\n",
    "    agg[\"mean_yhat\"] = agg[\"yhat\"][\"mean\"]\n",
    "    agg[\"n\"] = agg[\"yhat\"][\"len\"]\n",
    "\n",
    "    return agg[[\"label\", \"mean_yhat\", \"mean\", \"p025\", \"p975\", \"n\"]]"
   ]
  },
  {
   "cell_type": "code",
   "execution_count": 41,
   "metadata": {},
   "outputs": [],
   "source": [
    "plot_data = pd.concat([get_agg(pred_lgbm, \"lgbm\"), get_agg(pred_rf, \"random-forest\")])"
   ]
  },
  {
   "cell_type": "code",
   "execution_count": 42,
   "metadata": {},
   "outputs": [
    {
     "data": {
      "image/png": "[encoded data removed]",
      "text/plain": [
       "<Figure size 720x576 with 1 Axes>"
      ]
     },
     "metadata": {
      "needs_background": "light"
     },
     "output_type": "display_data"
    }
   ],
   "source": [
    "plt.plot([0, 1], [0, 1], c=\"grey\", linewidth=1, linestyle=\"--\")\n",
    "g = sns.lineplot(x=\"mean_yhat\", y=\"mean\", data=plot_data, linewidth=3, hue=\"label\")\n",
    "plt.ylabel(\"Fraction of positives\")\n",
    "plt.xlabel(\"Mean predicted value\")\n",
    "g.legend_.set_title(None)"
   ]
  },
  {
   "cell_type": "markdown",
   "metadata": {},
   "source": [
    "Any idea what causes the differences between our custom implementation and the `sklearn` version?"
   ]
  },
  {
   "cell_type": "markdown",
   "metadata": {},
   "source": [
    "## Study features using permutation feature importance"
   ]
  },
  {
   "cell_type": "code",
   "execution_count": 43,
   "metadata": {},
   "outputs": [],
   "source": [
    "res_pi = sklearn.inspection.permutation_importance(\n",
    "    random_forest,\n",
    "    X_test,\n",
    "    y_test,\n",
    "    n_repeats=5,\n",
    "    random_state=501,\n",
    ")"
   ]
  },
  {
   "cell_type": "code",
   "execution_count": 44,
   "metadata": {},
   "outputs": [
    {
     "name": "stdout",
     "output_type": "stream",
     "text": [
      "dspo_mean_l5         0.059357 ± 0.000512\n",
      "y_int_l1_mean        0.057267 ± 0.000265\n",
      "dspo_mean_l3         0.008261 ± 0.000122\n",
      "dspo_last            0.003985 ± 0.000186\n",
      "dspo_mean            0.001265 ± 0.000219\n",
      "y_int_l1_mean_l5     0.000660 ± 0.000093\n",
      "ratio_dspo           0.000145 ± 0.000063\n",
      "dspo_max_l3          0.000073 ± 0.000027\n",
      "dspo_max             0.000008 ± 0.000002\n"
     ]
    }
   ],
   "source": [
    "for i in res_pi.importances_mean.argsort()[::-1]:\n",
    "    if res_pi.importances_mean[i] - 2 * res_pi.importances_std[i] > 0:\n",
    "        print(\n",
    "            f\"{features[i]:<20} {res_pi.importances_mean[i]:.6f} ± {res_pi.importances_std[i]:.6f}\"\n",
    "        )"
   ]
  },
  {
   "cell_type": "markdown",
   "metadata": {},
   "source": [
    "&mdash; <br>\n",
    "Dr. Sebastian Gabel <br>\n",
    "Machine Learning in Marketing &ndash; Lecture 5 <br>\n",
    "2020 <br>"
   ]
  }
 ],
 "metadata": {
  "kernelspec": {
   "display_name": "Python 3",
   "language": "python",
   "name": "python3"
  },
  "language_info": {
   "codemirror_mode": {
    "name": "ipython",
    "version": 3
   },
   "file_extension": ".py",
   "mimetype": "text/x-python",
   "name": "python",
   "nbconvert_exporter": "python",
   "pygments_lexer": "ipython3",
   "version": "3.8.6"
  }
 },
 "nbformat": 4,
 "nbformat_minor": 4
}
