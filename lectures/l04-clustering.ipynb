{
 "cells": [
  {
   "cell_type": "markdown",
   "metadata": {},
   "source": [
    "<img src=\"../img/hu-logo.png\" align=\"right\" width=\"120\">\n",
    "\n",
    "# Hierarchical Clustering\n",
    "\n",
    "In this notebook we will implement ___Hierarchical Clustering___ with\n",
    "\n",
    "- Euclidean distances\n",
    "- single linkage\n",
    "\n",
    "We compare the results to those obtained by `sklearn` and visualize the clustering logic in a dendrogram plot."
   ]
  },
  {
   "cell_type": "code",
   "execution_count": 1,
   "metadata": {},
   "outputs": [],
   "source": [
    "import copy\n",
    "import celluloid\n",
    "\n",
    "import numpy as np\n",
    "import pandas as pd\n",
    "\n",
    "import sklearn.cluster\n",
    "\n",
    "import scipy.spatial # distance\n",
    "import scipy.cluster.hierarchy\n",
    "\n",
    "import matplotlib.pyplot as plt\n",
    "import seaborn as sns\n",
    "\n",
    "plt.rcParams.update({\n",
    "    \"figure.figsize\": (10, 8),\n",
    "    \"axes.titlesize\": 20,\n",
    "    \"axes.labelsize\": 15,\n",
    "    \"legend.fontsize\": 15,\n",
    "    \"axes.grid\": True,\n",
    "    \"axes.axisbelow\": True,\n",
    "})"
   ]
  },
  {
   "cell_type": "markdown",
   "metadata": {},
   "source": [
    "## Background\n",
    "\n",
    "__Hierarchical clustering__ is a family of clustering algorithms. The idea is to build nested clusters by iteratively (1) merging or (2) splitting clusters.\n",
    "\n",
    "__Agglomerative Clustering__ object performs a hierarchical clustering using a bottom up approach: each observation starts in its own cluster, and then clusters are merged step by step.\n",
    "\n",
    "We can choose different linkage criteria for the merge strategy:\n",
    "\n",
    "1. Ward: minimizes the sum of squared differences within all clusters (i.e., it is a variance-minimizing approach).\n",
    "2. Complete linkage (maximum linkage): minimize the maximum distance between observations of pairs of clusters.\n",
    "3. Average linkage: minimize the average of the distances between all observations of pairs of clusters.\n",
    "4. Single linkage: minimize the distance between the closest observations of pairs of clusters.\n",
    "\n",
    "Note Ward's conceptual similarity to the the k-means objective function.\n",
    "\n",
    "We have various choices for the distance metric, e.g., \n",
    "\n",
    "1. Euclidean distance $\\|a-b\\|_{2}={\\sqrt  {\\sum _{i}(a_{i}-b_{i})^{2}}}$\n",
    "2. Manhattan distance $\\|a-b\\|_{1}=\\sum _{i}|a_{i}-b_{i}|$\n",
    "3. Maximum distance $\\|a-b\\|_{\\infty }=\\max _{i}|a_{i}-b_{i}|$\n",
    "\n",
    "\n",
    "This hierarchy of clusters can be visualized as a tree (`dendrogram`). The _root_ of the tree is the cluster that contains all samples, the _leaves_ are the clusters containing only one sample each.\n",
    "\n",
    "In this notebook, we will explore a simple case of agglomerative clustering with single linkage.\n",
    "\n",
    "## Algorithm\n",
    "\n",
    "1. Start with most granular partioning, each point is a cluster\n",
    "2. Compute distance matrix\n",
    "3. `while` at least one distance smaller than distance threshold:\n",
    "    1. Merge clusters with smallest distances\n",
    "    2. Compute/update distances (based on selected linkage method)\n",
    "\n",
    "## Data\n",
    "\n",
    "Define samples in a two-dimensional space so we can easily visualize the data and interpret distances."
   ]
  },
  {
   "cell_type": "code",
   "execution_count": 2,
   "metadata": {},
   "outputs": [
    {
     "data": {
      "image/png": "[encoded data removed]",
      "text/plain": [
       "<Figure size 720x576 with 1 Axes>"
      ]
     },
     "metadata": {
      "needs_background": "light"
     },
     "output_type": "display_data"
    }
   ],
   "source": [
    "# manually create some data\n",
    "coordinates = np.array(\n",
    "    [\n",
    "        [20,21],\n",
    "        [10,50],\n",
    "        [ 8,54],\n",
    "        [19,27],\n",
    "        [19,10],\n",
    "        [71,80],\n",
    "        [60,72],\n",
    "        [70,62],\n",
    "    ]\n",
    ")\n",
    "\n",
    "df = pd.DataFrame(\n",
    "    coordinates,\n",
    "    columns=[\"x\", \"y\"]\n",
    ")\n",
    "\n",
    "# id for each point, used later in cluster assignments\n",
    "points = list(range(coordinates.shape[0]))\n",
    "\n",
    "# plot clustesr\n",
    "fig, ax = plt.subplots()\n",
    "ax.scatter(x=\"x\", y=\"y\", data=df, c=\"darkblue\", s=250)\n",
    "plt.title(\"Samples in 2D space\")\n",
    "plt.xlabel(\"X\")\n",
    "plt.ylabel(\"Y\")\n",
    "plt.show()"
   ]
  },
  {
   "cell_type": "markdown",
   "metadata": {},
   "source": [
    "## Distance matrix\n",
    "\n",
    "- quadratic and symmetric matrix\n",
    "- diagonal is 0 (distance of point to itself!)\n",
    "- a distance matrix therefore contains $\\frac n 2 (n-1)$ values"
   ]
  },
  {
   "cell_type": "code",
   "execution_count": 3,
   "metadata": {},
   "outputs": [
    {
     "data": {
      "text/plain": [
       "array([[ 0.   , 30.676, 35.114,  6.083, 11.045, 77.987, 64.815, 64.661],\n",
       "       [30.676,  0.   ,  4.472, 24.698, 41.   , 67.978, 54.626, 61.188],\n",
       "       [35.114,  4.472,  0.   , 29.155, 45.354, 68.154, 55.027, 62.514],\n",
       "       [ 6.083, 24.698, 29.155,  0.   , 17.   , 74.25 , 60.877, 61.855],\n",
       "       [11.045, 41.   , 45.354, 17.   ,  0.   , 87.201, 74.33 , 72.835],\n",
       "       [77.987, 67.978, 68.154, 74.25 , 87.201,  0.   , 13.601, 18.028],\n",
       "       [64.815, 54.626, 55.027, 60.877, 74.33 , 13.601,  0.   , 14.142],\n",
       "       [64.661, 61.188, 62.514, 61.855, 72.835, 18.028, 14.142,  0.   ]])"
      ]
     },
     "execution_count": 3,
     "metadata": {},
     "output_type": "execute_result"
    }
   ],
   "source": [
    "dist_raw = scipy.spatial.distance.cdist(\n",
    "    df.values,\n",
    "    df.values,\n",
    "    metric=\"euclidean\"\n",
    ").round(3)\n",
    "\n",
    "dist_raw"
   ]
  },
  {
   "cell_type": "code",
   "execution_count": 4,
   "metadata": {},
   "outputs": [
    {
     "data": {
      "text/html": [
       "<div>\n",
       "<style scoped>\n",
       "    .dataframe tbody tr th:only-of-type {\n",
       "        vertical-align: middle;\n",
       "    }\n",
       "\n",
       "    .dataframe tbody tr th {\n",
       "        vertical-align: top;\n",
       "    }\n",
       "\n",
       "    .dataframe thead th {\n",
       "        text-align: right;\n",
       "    }\n",
       "</style>\n",
       "<table border=\"1\" class=\"dataframe\">\n",
       "  <thead>\n",
       "    <tr style=\"text-align: right;\">\n",
       "      <th></th>\n",
       "      <th>i</th>\n",
       "      <th>j</th>\n",
       "      <th>d</th>\n",
       "    </tr>\n",
       "  </thead>\n",
       "  <tbody>\n",
       "    <tr>\n",
       "      <th>0</th>\n",
       "      <td>2</td>\n",
       "      <td>1</td>\n",
       "      <td>4.472</td>\n",
       "    </tr>\n",
       "    <tr>\n",
       "      <th>1</th>\n",
       "      <td>3</td>\n",
       "      <td>0</td>\n",
       "      <td>6.083</td>\n",
       "    </tr>\n",
       "    <tr>\n",
       "      <th>2</th>\n",
       "      <td>4</td>\n",
       "      <td>0</td>\n",
       "      <td>11.045</td>\n",
       "    </tr>\n",
       "    <tr>\n",
       "      <th>3</th>\n",
       "      <td>6</td>\n",
       "      <td>5</td>\n",
       "      <td>13.601</td>\n",
       "    </tr>\n",
       "    <tr>\n",
       "      <th>4</th>\n",
       "      <td>7</td>\n",
       "      <td>6</td>\n",
       "      <td>14.142</td>\n",
       "    </tr>\n",
       "    <tr>\n",
       "      <th>5</th>\n",
       "      <td>4</td>\n",
       "      <td>3</td>\n",
       "      <td>17.000</td>\n",
       "    </tr>\n",
       "    <tr>\n",
       "      <th>6</th>\n",
       "      <td>7</td>\n",
       "      <td>5</td>\n",
       "      <td>18.028</td>\n",
       "    </tr>\n",
       "    <tr>\n",
       "      <th>7</th>\n",
       "      <td>3</td>\n",
       "      <td>1</td>\n",
       "      <td>24.698</td>\n",
       "    </tr>\n",
       "    <tr>\n",
       "      <th>8</th>\n",
       "      <td>3</td>\n",
       "      <td>2</td>\n",
       "      <td>29.155</td>\n",
       "    </tr>\n",
       "    <tr>\n",
       "      <th>9</th>\n",
       "      <td>1</td>\n",
       "      <td>0</td>\n",
       "      <td>30.676</td>\n",
       "    </tr>\n",
       "  </tbody>\n",
       "</table>\n",
       "</div>"
      ],
      "text/plain": [
       "   i  j       d\n",
       "0  2  1   4.472\n",
       "1  3  0   6.083\n",
       "2  4  0  11.045\n",
       "3  6  5  13.601\n",
       "4  7  6  14.142\n",
       "5  4  3  17.000\n",
       "6  7  5  18.028\n",
       "7  3  1  24.698\n",
       "8  3  2  29.155\n",
       "9  1  0  30.676"
      ]
     },
     "execution_count": 4,
     "metadata": {},
     "output_type": "execute_result"
    }
   ],
   "source": [
    "# turn distance matrix into pandas dataframe (\"long\" format)\n",
    "ind = np.tril_indices(dist_raw.shape[0], -1)\n",
    "df_dist = pd.DataFrame({\n",
    "    \"i\": ind[0],\n",
    "    \"j\": ind[1],\n",
    "    \"d\": dist_raw[ind],\n",
    "}).sort_values(\"d\")\n",
    "df_dist.head(10).reset_index(drop=True)"
   ]
  },
  {
   "cell_type": "markdown",
   "metadata": {},
   "source": [
    "<br>\n",
    "<br>\n",
    "\n",
    "## Manual implementation\n",
    "\n",
    "### Initialize\n",
    "\n",
    "#### Cluster assignments\n",
    "\n",
    "We model cluster assignments by `dict`s.\n",
    "\n",
    "#### Cluster &rarr; Point(s)\n",
    "\n",
    "A cluster must contain one or more points. We model the map as a dict containing lists."
   ]
  },
  {
   "cell_type": "code",
   "execution_count": 5,
   "metadata": {},
   "outputs": [
    {
     "data": {
      "text/plain": [
       "{0: [0], 1: [1], 2: [2], 3: [3], 4: [4], 5: [5], 6: [6], 7: [7]}"
      ]
     },
     "execution_count": 5,
     "metadata": {},
     "output_type": "execute_result"
    }
   ],
   "source": [
    "cluster = {\n",
    "    i: [i]\n",
    "    for i in points\n",
    "}\n",
    "cluster"
   ]
  },
  {
   "cell_type": "markdown",
   "metadata": {},
   "source": [
    "#### Point &rarr; Cluster\n",
    "\n",
    "A point must belong to exactly one cluster. We model the cluster assignment as a dict containing cluster IDs (int). "
   ]
  },
  {
   "cell_type": "code",
   "execution_count": 6,
   "metadata": {},
   "outputs": [
    {
     "data": {
      "text/plain": [
       "{0: 0, 1: 1, 2: 2, 3: 3, 4: 4, 5: 5, 6: 6, 7: 7}"
      ]
     },
     "execution_count": 6,
     "metadata": {},
     "output_type": "execute_result"
    }
   ],
   "source": [
    "cluster_inv = {}\n",
    "for k in cluster:\n",
    "    for i in cluster[k]:\n",
    "        cluster_inv[i] = k\n",
    "cluster_inv"
   ]
  },
  {
   "cell_type": "markdown",
   "metadata": {},
   "source": [
    "#### Logging\n",
    "\n",
    "We log all steps in a dict."
   ]
  },
  {
   "cell_type": "code",
   "execution_count": 7,
   "metadata": {},
   "outputs": [
    {
     "name": "stdout",
     "output_type": "stream",
     "text": [
      "{-1: {0: [0], 1: [1], 2: [2], 3: [3], 4: [4], 5: [5], 6: [6], 7: [7]}}\n",
      "{-1: {0: 0, 1: 1, 2: 2, 3: 3, 4: 4, 5: 5, 6: 6, 7: 7}}\n"
     ]
    }
   ],
   "source": [
    "i = -1\n",
    "cluster_all = {}\n",
    "cluster_all[i] = copy.deepcopy(cluster)\n",
    "print(cluster_all)\n",
    "\n",
    "cluster_new_all = {}\n",
    "\n",
    "cluster_inv_all = {}\n",
    "cluster_inv_all[i] = copy.deepcopy(cluster_inv)\n",
    "print(cluster_inv_all)"
   ]
  },
  {
   "cell_type": "markdown",
   "metadata": {},
   "source": [
    "### Training\n",
    "\n",
    "Merge clusters for two closest points. If the points are already in the same cluster, skip to next iteration."
   ]
  },
  {
   "cell_type": "code",
   "execution_count": 8,
   "metadata": {},
   "outputs": [
    {
     "name": "stdout",
     "output_type": "stream",
     "text": [
      "\n",
      "\n",
      "Iteration 0\n",
      "merge\n",
      "[2, 1]\n",
      "Cluster -> Point(s)\n",
      "{0: [0], 1: [1, 2], 3: [3], 4: [4], 5: [5], 6: [6], 7: [7]}\n",
      "Point -> Cluster\n",
      "{0: 0, 1: 1, 2: 1, 3: 3, 4: 4, 5: 5, 6: 6, 7: 7}\n",
      "\n",
      "\n",
      "Iteration 1\n",
      "merge\n",
      "[3, 0]\n",
      "Cluster -> Point(s)\n",
      "{0: [0, 3], 1: [1, 2], 4: [4], 5: [5], 6: [6], 7: [7]}\n",
      "Point -> Cluster\n",
      "{0: 0, 3: 0, 1: 1, 2: 1, 4: 4, 5: 5, 6: 6, 7: 7}\n",
      "\n",
      "\n",
      "Iteration 2\n",
      "merge\n",
      "[4, 0]\n",
      "Cluster -> Point(s)\n",
      "{0: [0, 3, 4], 1: [1, 2], 5: [5], 6: [6], 7: [7]}\n",
      "Point -> Cluster\n",
      "{0: 0, 3: 0, 4: 0, 1: 1, 2: 1, 5: 5, 6: 6, 7: 7}\n",
      "\n",
      "\n",
      "Iteration 3\n",
      "merge\n",
      "[6, 5]\n",
      "Cluster -> Point(s)\n",
      "{0: [0, 3, 4], 1: [1, 2], 5: [5, 6], 7: [7]}\n",
      "Point -> Cluster\n",
      "{0: 0, 3: 0, 4: 0, 1: 1, 2: 1, 5: 5, 6: 5, 7: 7}\n",
      "\n",
      "\n",
      "Iteration 4\n",
      "merge\n",
      "[7, 6]\n",
      "Cluster -> Point(s)\n",
      "{0: [0, 3, 4], 1: [1, 2], 5: [5, 6, 7]}\n",
      "Point -> Cluster\n",
      "{0: 0, 3: 0, 4: 0, 1: 1, 2: 1, 5: 5, 6: 5, 7: 5}\n",
      "\n",
      "\n",
      "Iteration 5\n",
      "No update\n",
      "\n",
      "\n",
      "Iteration 6\n",
      "No update\n",
      "\n",
      "\n",
      "Iteration 7\n",
      "merge\n",
      "[3, 1]\n",
      "Cluster -> Point(s)\n",
      "{1: [1, 2, 0, 3, 4], 5: [5, 6, 7]}\n",
      "Point -> Cluster\n",
      "{1: 1, 2: 1, 0: 1, 3: 1, 4: 1, 5: 5, 6: 5, 7: 5}\n",
      "\n",
      "\n",
      "Iteration 8\n",
      "No update\n",
      "\n",
      "\n",
      "Iteration 9\n",
      "No update\n",
      "\n",
      "\n",
      "Iteration 10\n",
      "No update\n",
      "\n",
      "\n",
      "Iteration 11\n",
      "No update\n",
      "\n",
      "\n",
      "Iteration 12\n",
      "No update\n",
      "\n",
      "\n",
      "Iteration 13\n",
      "merge\n",
      "[6, 1]\n",
      "Cluster -> Point(s)\n",
      "{1: [1, 2, 0, 3, 4, 5, 6, 7]}\n",
      "Point -> Cluster\n",
      "{1: 1, 2: 1, 0: 1, 3: 1, 4: 1, 5: 1, 6: 1, 7: 1}\n"
     ]
    }
   ],
   "source": [
    "while len(cluster)>1:\n",
    "\n",
    "    i += 1\n",
    "\n",
    "    print(f\"\\n\\nIteration {i}\")\n",
    "\n",
    "    cluster_new = [\n",
    "        df_dist.i.iloc[i],\n",
    "        df_dist.j.iloc[i]\n",
    "    ]\n",
    "    cluster_new_all[i] = copy.deepcopy(cluster_new)\n",
    "\n",
    "    if cluster_inv[cluster_new[0]] == cluster_inv[cluster_new[1]]:\n",
    "        print(\"No update\")\n",
    "        updated = False\n",
    "    else:\n",
    "        print(\"merge\")\n",
    "        print(cluster_new)\n",
    "        cluster[cluster_inv[cluster_new[1]]] += cluster[cluster_inv[cluster_new[0]]]\n",
    "        del cluster[cluster_inv[cluster_new[0]]]\n",
    "        updated = True\n",
    "\n",
    "    cluster_inv = {}\n",
    "    for k in cluster:\n",
    "        for x in cluster[k]:\n",
    "            cluster_inv[x] = k\n",
    "\n",
    "    cluster_all[i] = copy.deepcopy(cluster)\n",
    "    cluster_inv_all[i] = copy.deepcopy(cluster_inv)\n",
    "\n",
    "    if updated:\n",
    "        print(\"Cluster -> Point(s)\")\n",
    "        print(cluster)\n",
    "\n",
    "        print(\"Point -> Cluster\")\n",
    "        print(cluster_inv)"
   ]
  },
  {
   "cell_type": "markdown",
   "metadata": {},
   "source": [
    "## Updating the distance matrix"
   ]
  },
  {
   "cell_type": "code",
   "execution_count": 9,
   "metadata": {},
   "outputs": [
    {
     "data": {
      "text/plain": [
       "array([[ 0.  , 30.68, 35.11,  6.08, 11.04, 77.99, 64.82, 64.66],\n",
       "       [30.68,  0.  ,  4.47, 24.7 , 41.  , 67.98, 54.63, 61.19],\n",
       "       [35.11,  4.47,  0.  , 29.16, 45.35, 68.15, 55.03, 62.51],\n",
       "       [ 6.08, 24.7 , 29.16,  0.  , 17.  , 74.25, 60.88, 61.86],\n",
       "       [11.04, 41.  , 45.35, 17.  ,  0.  , 87.2 , 74.33, 72.83],\n",
       "       [77.99, 67.98, 68.15, 74.25, 87.2 ,  0.  , 13.6 , 18.03],\n",
       "       [64.82, 54.63, 55.03, 60.88, 74.33, 13.6 ,  0.  , 14.14],\n",
       "       [64.66, 61.19, 62.51, 61.86, 72.83, 18.03, 14.14,  0.  ]])"
      ]
     },
     "execution_count": 9,
     "metadata": {},
     "output_type": "execute_result"
    }
   ],
   "source": [
    "dist_raw.round(2)"
   ]
  },
  {
   "cell_type": "code",
   "execution_count": 10,
   "metadata": {},
   "outputs": [
    {
     "data": {
      "text/plain": [
       "array([[ 0.  , 30.68,  6.08, 11.04, 77.99, 64.82, 64.66],\n",
       "       [30.68,  0.  , 24.7 , 41.  , 67.98, 54.63, 61.19],\n",
       "       [ 6.08, 24.7 ,  0.  , 17.  , 74.25, 60.88, 61.86],\n",
       "       [11.04, 41.  , 17.  ,  0.  , 87.2 , 74.33, 72.83],\n",
       "       [77.99, 67.98, 74.25, 87.2 ,  0.  , 13.6 , 18.03],\n",
       "       [64.82, 54.63, 60.88, 74.33, 13.6 ,  0.  , 14.14],\n",
       "       [64.66, 61.19, 61.86, 72.83, 18.03, 14.14,  0.  ]])"
      ]
     },
     "execution_count": 10,
     "metadata": {},
     "output_type": "execute_result"
    }
   ],
   "source": [
    "dist_reduced_0 = dist_raw[\n",
    "    np.ix_(\n",
    "        np.delete(points, cluster_new_all[0][0]),\n",
    "        np.delete(points, cluster_new_all[0][0])\n",
    "       )\n",
    "]\n",
    "dist_reduced_0.round(2)"
   ]
  },
  {
   "cell_type": "code",
   "execution_count": 11,
   "metadata": {},
   "outputs": [
    {
     "data": {
      "text/plain": [
       "array([[ 0.  , 35.11,  6.08, 11.04, 77.99, 64.82, 64.66],\n",
       "       [35.11,  0.  , 29.16, 45.35, 68.15, 55.03, 62.51],\n",
       "       [ 6.08, 29.16,  0.  , 17.  , 74.25, 60.88, 61.86],\n",
       "       [11.04, 45.35, 17.  ,  0.  , 87.2 , 74.33, 72.83],\n",
       "       [77.99, 68.15, 74.25, 87.2 ,  0.  , 13.6 , 18.03],\n",
       "       [64.82, 55.03, 60.88, 74.33, 13.6 ,  0.  , 14.14],\n",
       "       [64.66, 62.51, 61.86, 72.83, 18.03, 14.14,  0.  ]])"
      ]
     },
     "execution_count": 11,
     "metadata": {},
     "output_type": "execute_result"
    }
   ],
   "source": [
    "dist_reduced_1 = dist_raw[\n",
    "    np.ix_(\n",
    "        np.delete(points, cluster_new_all[0][1]),\n",
    "        np.delete(points, cluster_new_all[0][1])\n",
    "       )\n",
    "]\n",
    "dist_reduced_1.round(2)"
   ]
  },
  {
   "cell_type": "code",
   "execution_count": 12,
   "metadata": {},
   "outputs": [
    {
     "data": {
      "text/plain": [
       "array([[ 0.  , 30.68,  6.08, 11.04, 77.99, 64.82, 64.66],\n",
       "       [30.68,  0.  , 24.7 , 41.  , 67.98, 54.63, 61.19],\n",
       "       [ 6.08, 24.7 ,  0.  , 17.  , 74.25, 60.88, 61.86],\n",
       "       [11.04, 41.  , 17.  ,  0.  , 87.2 , 74.33, 72.83],\n",
       "       [77.99, 67.98, 74.25, 87.2 ,  0.  , 13.6 , 18.03],\n",
       "       [64.82, 54.63, 60.88, 74.33, 13.6 ,  0.  , 14.14],\n",
       "       [64.66, 61.19, 61.86, 72.83, 18.03, 14.14,  0.  ]])"
      ]
     },
     "execution_count": 12,
     "metadata": {},
     "output_type": "execute_result"
    }
   ],
   "source": [
    "np.minimum(dist_reduced_0, dist_reduced_1).round(2)"
   ]
  },
  {
   "cell_type": "markdown",
   "metadata": {},
   "source": [
    "### Plot"
   ]
  },
  {
   "cell_type": "code",
   "execution_count": 13,
   "metadata": {},
   "outputs": [
    {
     "data": {
      "text/plain": [
       "dict_keys([-1, 0, 1, 2, 3, 4, 5, 6, 7, 8, 9, 10, 11, 12, 13])"
      ]
     },
     "execution_count": 13,
     "metadata": {},
     "output_type": "execute_result"
    }
   ],
   "source": [
    "cluster_inv_all.keys()"
   ]
  },
  {
   "cell_type": "code",
   "execution_count": 14,
   "metadata": {},
   "outputs": [],
   "source": [
    "fig, ax = plt.subplots(figsize=(12,10))\n",
    "plt.grid()\n",
    "plt.xlabel(\"X\")\n",
    "plt.ylabel(\"Y\")\n",
    "plt.title(\"Animation of linkage and cluster membership\")\n",
    "\n",
    "camera = celluloid.Camera(fig)\n",
    "for i in cluster_inv_all.keys():\n",
    "    for key in cluster_all[i]:\n",
    "        points_subcluster = cluster_all[i][key]\n",
    "        for ix in points_subcluster:\n",
    "            for jx in points_subcluster:\n",
    "                if ix < jx:\n",
    "                    ax.plot(\n",
    "                        [coordinates[ix][0], coordinates[jx][0]],\n",
    "                        [coordinates[ix][1], coordinates[jx][1]], \n",
    "                        c=\"darkorange\",\n",
    "                        #linestyle=\"dashed\",\n",
    "                        linewidth=3,\n",
    "                        alpha=.5,\n",
    "                        zorder=1\n",
    "                    )\n",
    "    ax.scatter(x=\"x\", y=\"y\", data=df, c='b', s=250, label=str(i), zorder=2)\n",
    "    ax.legend([f\"Epoch: {i}\"], loc=\"upper left\")\n",
    "    camera.snap()\n",
    "\n",
    "plt.close()"
   ]
  },
  {
   "cell_type": "code",
   "execution_count": 15,
   "metadata": {},
   "outputs": [],
   "source": [
    "# animate cluster creation (i.e., \"links\" between points)\n",
    "clustering = camera.animate()\n",
    "\n",
    "clustering.save(\n",
    "    \"../img/clustering.gif\",\n",
    "    writer=\"pillow\",\n",
    "    dpi=100,\n",
    "    fps=1,\n",
    ")"
   ]
  },
  {
   "cell_type": "markdown",
   "metadata": {},
   "source": [
    "<img src=\"../img/clustering.gif\" width=800>"
   ]
  },
  {
   "cell_type": "markdown",
   "metadata": {},
   "source": [
    "<br>\n",
    "\n",
    "## Reference solution `sklearn`"
   ]
  },
  {
   "cell_type": "markdown",
   "metadata": {},
   "source": [
    "### Run agglomerative clustering"
   ]
  },
  {
   "cell_type": "code",
   "execution_count": 16,
   "metadata": {},
   "outputs": [],
   "source": [
    "config_ac = {\n",
    "    \"affinity\": \"euclidean\",\n",
    "    \"linkage\": \"single\",\n",
    "    \"distance_threshold\": 0,\n",
    "    \"n_clusters\": None,\n",
    "}"
   ]
  },
  {
   "cell_type": "code",
   "execution_count": 17,
   "metadata": {},
   "outputs": [],
   "source": [
    "model = sklearn.cluster.AgglomerativeClustering(\n",
    "   **config_ac\n",
    ")\n",
    "model = model.fit(df.values)"
   ]
  },
  {
   "cell_type": "markdown",
   "metadata": {},
   "source": [
    "### Plot dendrogram\n",
    "\n",
    "A dendrogram is a diagram representing a tree, visualizing the arrangement of the clusters produced by the respective clustering method along with the distance threshold that determines cluster fusion."
   ]
  },
  {
   "cell_type": "code",
   "execution_count": 18,
   "metadata": {},
   "outputs": [
    {
     "data": {
      "image/png": "[encoded data removed]",
      "text/plain": [
       "<Figure size 720x576 with 1 Axes>"
      ]
     },
     "metadata": {
      "needs_background": "light"
     },
     "output_type": "display_data"
    }
   ],
   "source": [
    "def plot_dendrogram(model, **kwargs):\n",
    "    \"\"\"\n",
    "    Source: See [1]\n",
    "    \"\"\"\n",
    "    counts = np.zeros(model.children_.shape[0])\n",
    "    n_samples = len(model.labels_)\n",
    "    for i, merge in enumerate(model.children_):\n",
    "        current_count = 0\n",
    "        for child_idx in merge:\n",
    "            if child_idx < n_samples:\n",
    "                current_count += 1\n",
    "            else:\n",
    "                current_count += counts[child_idx - n_samples]\n",
    "        counts[i] = current_count\n",
    "    linkage_matrix = np.column_stack(\n",
    "        [model.children_, model.distances_, counts]\n",
    "    ).astype(float)\n",
    "    scipy.cluster.hierarchy.dendrogram(linkage_matrix, **kwargs)\n",
    "\n",
    "plt.title('Hierarchical Clustering Dendrogram')\n",
    "\n",
    "for i in range(15):\n",
    "    plt.axhline(df_dist.d.iloc[i], linestyle=\"--\", c='grey', zorder=1, linewidth=0.5)\n",
    "plot_dendrogram(model, truncate_mode=None)\n",
    "plt.xlabel(\"Point\")\n",
    "plt.ylabel(\"Distance\")\n",
    "plt.grid(False)\n",
    "plt.show()"
   ]
  },
  {
   "cell_type": "markdown",
   "metadata": {},
   "source": [
    "&mdash; <br>\n",
    "Dr. Sebastian Gabel <br>\n",
    "Machine Learning in Marketing &ndash; Lecture 4 <br>\n",
    "2020 <br>\n",
    "\n",
    "[1] The function `plot_dendrogram` is borrowed from [sklearn](https://scikit-learn.org/stable/auto_examples/cluster/plot_agglomerative_dendrogram.html#sphx-glr-auto-examples-cluster-plot-agglomerative-dendrogram-py)."
   ]
  }
 ],
 "metadata": {
  "kernelspec": {
   "display_name": "Python 3",
   "language": "python",
   "name": "python3"
  },
  "language_info": {
   "codemirror_mode": {
    "name": "ipython",
    "version": 3
   },
   "file_extension": ".py",
   "mimetype": "text/x-python",
   "name": "python",
   "nbconvert_exporter": "python",
   "pygments_lexer": "ipython3",
   "version": "3.8.6"
  }
 },
 "nbformat": 4,
 "nbformat_minor": 4
}
